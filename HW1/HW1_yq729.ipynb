{
  "nbformat": 4,
  "nbformat_minor": 0,
  "metadata": {
    "colab": {
      "name": "HW1_yq729.ipynb",
      "version": "0.3.2",
      "provenance": [],
      "collapsed_sections": [],
      "toc_visible": true
    },
    "kernelspec": {
      "display_name": "Python 3",
      "language": "python",
      "name": "python3"
    }
  },
  "cells": [
    {
      "metadata": {
        "id": "fbjZ1BNrG6DY",
        "colab_type": "text"
      },
      "cell_type": "markdown",
      "source": [
        "# Homework 1, DS-GA 1012, Spring 2019\n",
        "\n",
        "## Due Feburary 13, 2019 at 2pm (ET)\n",
        "\n",
        "Download the data zip `DS-GA1012-hw1-data.zip`. Complete the following questions in the notebook and submit your completed notebook on NYU Classes."
      ]
    },
    {
      "metadata": {
        "id": "duzx9jcALYgM",
        "colab_type": "text"
      },
      "cell_type": "markdown",
      "source": [
        "## set environment"
      ]
    },
    {
      "metadata": {
        "id": "wTJ0wvZXLWvO",
        "colab_type": "code",
        "colab": {}
      },
      "cell_type": "code",
      "source": [
        "from collections import defaultdict\n",
        "import numpy as np\n",
        "from numpy.linalg import svd\n",
        "import matplotlib.pyplot as plt"
      ],
      "execution_count": 0,
      "outputs": []
    },
    {
      "metadata": {
        "id": "SXizdE34LYPJ",
        "colab_type": "code",
        "colab": {}
      },
      "cell_type": "code",
      "source": [
        "%matplotlib inline"
      ],
      "execution_count": 0,
      "outputs": []
    },
    {
      "metadata": {
        "id": "Tqdtf-3-G6Da",
        "colab_type": "text"
      },
      "cell_type": "markdown",
      "source": [
        "## 1. Exploring effect of context size [30 pts]"
      ]
    },
    {
      "metadata": {
        "id": "NVIXVaAlG6Db",
        "colab_type": "text"
      },
      "cell_type": "markdown",
      "source": [
        "We face many implicit and explicit design decisions in creating distributional word representations. For example, in lecture and in lab, we created word vectors using a co-occurence matrix built on neighboring pairs of words. We might suspect, however, that we can get more signal of word similarity by considering larger contexts than pairs of words."
      ]
    },
    {
      "metadata": {
        "id": "jyun_MyQG6Dc",
        "colab_type": "text"
      },
      "cell_type": "markdown",
      "source": [
        "__a__. Write `build_cooccurrence_matrix`, which generates the co-occurence matrix for a window of arbitrary size and for the vocabulary of `max_vocab_size` most frequent words. Feel free to modify the code used in lab [10 pts]"
      ]
    },
    {
      "metadata": {
        "id": "fbQyQzuvITHI",
        "colab_type": "code",
        "colab": {}
      },
      "cell_type": "code",
      "source": [
        "#Yusu's homework\n",
        "import time\n",
        "from collections import defaultdict\n",
        "\n",
        "def build_cooccurrence_matrix(data, max_vocab_size=20000,context_size=1):\n",
        "    \"\"\" \n",
        "    \n",
        "    args:\n",
        "        - data: iterable where each item is a string sentence\n",
        "        - max_vocab_size: maximum vocabulary size\n",
        "        \n",
        "    returns:\n",
        "        - coocur_mat: co-occurrence matrix as a numpy array\n",
        "    \"\"\"\n",
        "    \n",
        "    def get_token_frequencies():\n",
        "        tok2freq = defaultdict(int)\n",
        "        coocur_counts = defaultdict(lambda: defaultdict(int))\n",
        "\n",
        "        for datum in data:\n",
        "            tokens = datum.strip().split() # we'll use whitespace to tokenize\n",
        "            for i, tok in enumerate(tokens):\n",
        "                tok2freq[tok] += 1\n",
        "                coocur_counts[tok][tok] += 1\n",
        "                if i < len(tokens) - 1:\n",
        "                    coocur_counts[tok][tokens[i+1]] += 1\n",
        "                    coocur_counts[tokens[i+1]][tok] += 1\n",
        "        return tok2freq, coocur_counts\n",
        "    \n",
        "    def prune_vocabulary(tok2freq, max_vocab_size):\n",
        "        \"\"\" Prune vocab by taking max_vocab_size most frequent words \"\"\"\n",
        "        tok_and_freqs = [(k, v) for k, v in tok2freq.items()]\n",
        "        tok_and_freqs.sort(key = lambda x: x[1], reverse=True) # sorts in-place\n",
        "        tok2idx = {tok: idx for idx, (tok, _) in enumerate(tok_and_freqs[:max_vocab_size])}\n",
        "        idx2tok = {idx: tok for tok, idx in tok2idx.items()}\n",
        "        return tok2idx, idx2tok\n",
        "    \n",
        "    def _build_coocurrence_mat(idx2tok, coocur_counts):\n",
        "        mat = [[coocur_counts[idx2tok[i]][idx2tok[j]] for j in range(len(idx2tok))] for i in range(len(idx2tok))]\n",
        "        \"\"\"vocab_size = len(idx2tok)\n",
        "        mat = [[0 for _ in range(vocab_size)] for _ in range(vocab_size)]\n",
        "        for i in range(vocab_size - context_size):\n",
        "            for j in range(i+context_size, vocab_size):\n",
        "                if coocur_counts[idx2tok[i]][idx2tok[j]]:\n",
        "                    mat[i][j] = coocur_counts[idx2tok[i]][idx2tok[j]]\n",
        "                    mat[j][i] = coocur_counts[idx2tok[i]][idx2tok[j]]\"\"\"\n",
        "        return np.array(mat)\n",
        "        \n",
        "    print(\"Counting words...\")\n",
        "    start_time = time.time()\n",
        "    tok2freq, coocur_counts = get_token_frequencies()\n",
        "    print(\"\\tFinished counting words in %.5f\" % (time.time() - start_time))\n",
        "\n",
        "    print(\"Pruning vocabulary...\")\n",
        "    tok2idx, idx2tok = prune_vocabulary(tok2freq, max_vocab_size)\n",
        "    start_time = time.time()\n",
        "    print(\"\\tFinished pruning vocabulary in %.5f\" % (time.time() - start_time))\n",
        "    \n",
        "    print(\"Building co-occurrence matrix...\")\n",
        "    start_time = time.time()\n",
        "    coocur_mat = _build_coocurrence_mat(idx2tok, coocur_counts)\n",
        "    print(\"\\tFinished building co-occurrence matrix in %.5f\" % (time.time() - start_time))\n",
        "    return coocur_mat, tok2idx, idx2tok"
      ],
      "execution_count": 0,
      "outputs": []
    },
    {
      "metadata": {
        "id": "Wy9ewGzpG6Dh",
        "colab_type": "text"
      },
      "cell_type": "markdown",
      "source": [
        "Use your implementation of `build_cooccurrence_matrix` to generate the co-occurence matrix from the sentences of [SST](http://nlp.stanford.edu/~socherr/stanfordSentimentTreebank.zip) (file `datasetSentences.txt`) with `context_size=2` and `max_vocab_size=10000`. What is the co-occurrence count of the words \"the\" and \"end\"? "
      ]
    },
    {
      "metadata": {
        "id": "UEJfhOpTLKLB",
        "colab_type": "code",
        "colab": {}
      },
      "cell_type": "code",
      "source": [
        "def load_sst(data_file):\n",
        "    with open(data_file, 'r') as data_fh:\n",
        "        data_fh.readline() # skip the header\n",
        "        data = [r.split('\\t')[1] for r in data_fh.readlines()]\n",
        "    return data"
      ],
      "execution_count": 0,
      "outputs": []
    },
    {
      "metadata": {
        "id": "ak-zG5C-JhQS",
        "colab_type": "code",
        "outputId": "1ee1062b-15dc-44a0-95d1-6214e7f7cf68",
        "colab": {
          "base_uri": "https://localhost:8080/",
          "height": 122
        }
      },
      "cell_type": "code",
      "source": [
        "data_file = 'datasetSentences.txt'\n",
        "\n",
        "data = load_sst(data_file)\n",
        "mat, tok2idx, idx2tok = build_cooccurrence_matrix(data, max_vocab_size=10000,context_size=1)"
      ],
      "execution_count": 5,
      "outputs": [
        {
          "output_type": "stream",
          "text": [
            "Counting words...\n",
            "\tFinished counting words in 0.41888\n",
            "Pruning vocabulary...\n",
            "\tFinished pruning vocabulary in 0.00000\n",
            "Building co-occurrence matrix...\n",
            "\tFinished building co-occurrence matrix in 54.01308\n"
          ],
          "name": "stdout"
        }
      ]
    },
    {
      "metadata": {
        "id": "_wTk5sx831_M",
        "colab_type": "code",
        "outputId": "ee660a58-6263-4e5f-945f-af632827575e",
        "colab": {
          "base_uri": "https://localhost:8080/",
          "height": 139
        }
      },
      "cell_type": "code",
      "source": [
        "mat"
      ],
      "execution_count": 6,
      "outputs": [
        {
          "output_type": "execute_result",
          "data": {
            "text/plain": [
              "array([[11162,     0,     0, ...,     0,     0,     1],\n",
              "       [    0,  9949,   466, ...,     0,     0,     0],\n",
              "       [    0,   466,  8395, ...,     0,     0,     0],\n",
              "       ...,\n",
              "       [    0,     0,     0, ...,     2,     0,     0],\n",
              "       [    0,     0,     0, ...,     0,     2,     0],\n",
              "       [    1,     0,     0, ...,     0,     0,     2]])"
            ]
          },
          "metadata": {
            "tags": []
          },
          "execution_count": 6
        }
      ]
    },
    {
      "metadata": {
        "id": "nSKXkXKj5GiC",
        "colab_type": "code",
        "outputId": "908c0eb7-922b-4bf7-f44a-6fe51cf81f7d",
        "colab": {
          "base_uri": "https://localhost:8080/",
          "height": 34
        }
      },
      "cell_type": "code",
      "source": [
        "#find the index of 'the'\n",
        "list(tok2idx.keys()).index(\"the\")"
      ],
      "execution_count": 7,
      "outputs": [
        {
          "output_type": "execute_result",
          "data": {
            "text/plain": [
              "2"
            ]
          },
          "metadata": {
            "tags": []
          },
          "execution_count": 7
        }
      ]
    },
    {
      "metadata": {
        "id": "LTDyFBa-8WNx",
        "colab_type": "code",
        "outputId": "97d19e1f-5e88-4b8c-b50a-f4de62cb3a93",
        "colab": {
          "base_uri": "https://localhost:8080/",
          "height": 34
        }
      },
      "cell_type": "code",
      "source": [
        "#find the index of 'and'\n",
        "list(tok2idx.keys()).index(\"and\")"
      ],
      "execution_count": 8,
      "outputs": [
        {
          "output_type": "execute_result",
          "data": {
            "text/plain": [
              "3"
            ]
          },
          "metadata": {
            "tags": []
          },
          "execution_count": 8
        }
      ]
    },
    {
      "metadata": {
        "id": "9rFgot2H8rr1",
        "colab_type": "code",
        "outputId": "0ed1eeb3-2ae7-4817-e1b3-38d0b6dc9ede",
        "colab": {
          "base_uri": "https://localhost:8080/",
          "height": 34
        }
      },
      "cell_type": "code",
      "source": [
        "#find the cooccurence of 'the' and 'and'\n",
        "mat[2][3]"
      ],
      "execution_count": 9,
      "outputs": [
        {
          "output_type": "execute_result",
          "data": {
            "text/plain": [
              "348"
            ]
          },
          "metadata": {
            "tags": []
          },
          "execution_count": 9
        }
      ]
    },
    {
      "metadata": {
        "id": "Tj9NdNGf98id",
        "colab_type": "code",
        "colab": {}
      },
      "cell_type": "code",
      "source": [
        "#save for later\n",
        "mat_1=mat"
      ],
      "execution_count": 0,
      "outputs": []
    },
    {
      "metadata": {
        "id": "PqDDk6QUG6Di",
        "colab_type": "text"
      },
      "cell_type": "markdown",
      "source": [
        "__b__. Plot the effect of varying context size in $\\{1, 2, 3, 4\\}$ (leaving all the other settings the same) on the quality of the learned word embeddings, as measured by performance (Spearman correlation) on the word similarity dataset [MTurk-771](http://www2.mta.ac.il/~gideon/mturk771.html) between human judgments and cosine similarity of the learned word vectors (see lab). [12 pts]"
      ]
    },
    {
      "metadata": {
        "id": "7DacsJEJMj9v",
        "colab_type": "text"
      },
      "cell_type": "markdown",
      "source": [
        "Evaluation: Word Similarity"
      ]
    },
    {
      "metadata": {
        "id": "bWj8SrIjQuzT",
        "colab_type": "code",
        "colab": {}
      },
      "cell_type": "code",
      "source": [
        "from scipy.stats import spearmanr"
      ],
      "execution_count": 0,
      "outputs": []
    },
    {
      "metadata": {
        "id": "QatS_rcFQrLH",
        "colab_type": "code",
        "colab": {}
      },
      "cell_type": "code",
      "source": [
        "def load_word_similarity_dataset(data_file):\n",
        "    with open(data_file, 'r') as data_fh:\n",
        "        raw_data = data_fh.readlines()\n",
        "    data = []\n",
        "    trgs = []\n",
        "    for datum in raw_data:\n",
        "        datum = datum.strip().split(',')\n",
        "        data.append((datum[0], datum[1]))\n",
        "        trgs.append(float(datum[2]))\n",
        "    return data, trgs"
      ],
      "execution_count": 0,
      "outputs": []
    },
    {
      "metadata": {
        "id": "M-MT7_7UMtNr",
        "colab_type": "code",
        "colab": {}
      },
      "cell_type": "code",
      "source": [
        "test_file = 'MTURK-771.csv'\n",
        "test_data, test_trgs = load_word_similarity_dataset(test_file)"
      ],
      "execution_count": 0,
      "outputs": []
    },
    {
      "metadata": {
        "id": "hh8I9xF2N4lU",
        "colab_type": "text"
      },
      "cell_type": "markdown",
      "source": [
        "Here we evaluate when context_size=1."
      ]
    },
    {
      "metadata": {
        "id": "7nfGMcpePAd0",
        "colab_type": "code",
        "colab": {}
      },
      "cell_type": "code",
      "source": [
        "def evaluate_word_similarity(word_pairs, targets, mat, tok2idx):\n",
        "    \"\"\" \"\"\"\n",
        "    preds = []\n",
        "    trgs = []\n",
        "    n_exs = 0\n",
        "    for (word1, word2), trg in zip(word_pairs, targets):\n",
        "        if word1 in tok2idx and word2 in tok2idx:\n",
        "            pred_sim = 1 - cosine(mat[tok2idx[word1]], mat[tok2idx[word2]])\n",
        "            preds.append(pred_sim)\n",
        "            trgs.append(trg)\n",
        "            n_exs += 1\n",
        "    \n",
        "    rho, pvalue = spearmanr(trgs, preds)\n",
        "    print(\"Evaluated on %d of %d examples\" % (n_exs, len(word_pairs)))\n",
        "    return rho\n",
        "def vector_length(u):\n",
        "    \"\"\"Length (L2) of the 1d np.array `u`. Returns a new np.array with the \n",
        "    same dimensions as `u`.\"\"\"\n",
        "    return np.sqrt(np.dot(u, u))\n",
        "  \n",
        "def cosine(u, v):        \n",
        "    \"\"\"Cosine distance between 1d np.arrays `u` and `v`, which must have \n",
        "    the same dimensionality. Returns a float.\"\"\"\n",
        "    return 1.0 - (np.dot(u, v) / (vector_length(u) * vector_length(v)))\n",
        "  \n",
        "def prob_norm(u):\n",
        "    \"\"\"Normalize 1d np.array `u` into a probability distribution. Assumes \n",
        "    that all the members of `u` are positive. Returns a 1d np.array of \n",
        "    the same dimensionality as `u`.\"\"\"\n",
        "    return u / np.sum(u)\n",
        "\n",
        "def rowwise_norm_mat(mat):\n",
        "    return np.array([prob_norm(u) for u in mat])\n",
        "norm_mat = rowwise_norm_mat(mat)"
      ],
      "execution_count": 0,
      "outputs": []
    },
    {
      "metadata": {
        "id": "kcujyo-sMtRt",
        "colab_type": "code",
        "outputId": "87b5c228-6861-44ea-c560-d92d944836d1",
        "colab": {
          "base_uri": "https://localhost:8080/",
          "height": 52
        }
      },
      "cell_type": "code",
      "source": [
        "evaluation1=evaluate_word_similarity(test_data, test_trgs, norm_mat, tok2idx)\n",
        "evaluation1"
      ],
      "execution_count": 16,
      "outputs": [
        {
          "output_type": "stream",
          "text": [
            "Evaluated on 248 of 771 examples\n"
          ],
          "name": "stdout"
        },
        {
          "output_type": "execute_result",
          "data": {
            "text/plain": [
              "-0.015468056503250562"
            ]
          },
          "metadata": {
            "tags": []
          },
          "execution_count": 16
        }
      ]
    },
    {
      "metadata": {
        "id": "EBpRJMbPOE2X",
        "colab_type": "text"
      },
      "cell_type": "markdown",
      "source": [
        "Here we evaluate when context_size=2."
      ]
    },
    {
      "metadata": {
        "id": "ZfvLoH0QMDl6",
        "colab_type": "code",
        "outputId": "a8f310dd-268c-490b-bdfb-29a972f836f4",
        "colab": {
          "base_uri": "https://localhost:8080/",
          "height": 122
        }
      },
      "cell_type": "code",
      "source": [
        "mat, tok2idx, idx2tok = build_cooccurrence_matrix(data, max_vocab_size=10000,context_size=2)"
      ],
      "execution_count": 17,
      "outputs": [
        {
          "output_type": "stream",
          "text": [
            "Counting words...\n",
            "\tFinished counting words in 0.46556\n",
            "Pruning vocabulary...\n",
            "\tFinished pruning vocabulary in 0.00000\n",
            "Building co-occurrence matrix...\n",
            "\tFinished building co-occurrence matrix in 51.72593\n"
          ],
          "name": "stdout"
        }
      ]
    },
    {
      "metadata": {
        "id": "S_DjmHrxPHy1",
        "colab_type": "code",
        "colab": {}
      },
      "cell_type": "code",
      "source": [
        "def evaluate_word_similarity(word_pairs, targets, mat, tok2idx):\n",
        "    \"\"\" \"\"\"\n",
        "    preds = []\n",
        "    trgs = []\n",
        "    n_exs = 0\n",
        "    for (word1, word2), trg in zip(word_pairs, targets):\n",
        "        if word1 in tok2idx and word2 in tok2idx:\n",
        "            pred_sim = 1 - cosine(mat[tok2idx[word1]], mat[tok2idx[word2]])\n",
        "            preds.append(pred_sim)\n",
        "            trgs.append(trg)\n",
        "            n_exs += 1\n",
        "    \n",
        "    rho, pvalue = spearmanr(trgs, preds)\n",
        "    print(\"Evaluated on %d of %d examples\" % (n_exs, len(word_pairs)))\n",
        "    return rho\n",
        "def vector_length(u):\n",
        "    \"\"\"Length (L2) of the 1d np.array `u`. Returns a new np.array with the \n",
        "    same dimensions as `u`.\"\"\"\n",
        "    return np.sqrt(np.dot(u, u))\n",
        "  \n",
        "def cosine(u, v):        \n",
        "    \"\"\"Cosine distance between 1d np.arrays `u` and `v`, which must have \n",
        "    the same dimensionality. Returns a float.\"\"\"\n",
        "    return 1.0 - (np.dot(u, v) / (vector_length(u) * vector_length(v)))\n",
        "  \n",
        "def prob_norm(u):\n",
        "    \"\"\"Normalize 1d np.array `u` into a probability distribution. Assumes \n",
        "    that all the members of `u` are positive. Returns a 1d np.array of \n",
        "    the same dimensionality as `u`.\"\"\"\n",
        "    return u / np.sum(u)\n",
        "\n",
        "def rowwise_norm_mat(mat):\n",
        "    return np.array([prob_norm(u) for u in mat])\n",
        "norm_mat = rowwise_norm_mat(mat)"
      ],
      "execution_count": 0,
      "outputs": []
    },
    {
      "metadata": {
        "id": "oEoPP6OCMtLq",
        "colab_type": "code",
        "outputId": "539c0f9c-e153-47e2-8971-416a9279c84e",
        "colab": {
          "base_uri": "https://localhost:8080/",
          "height": 52
        }
      },
      "cell_type": "code",
      "source": [
        "evaluation2=evaluate_word_similarity(test_data, test_trgs, norm_mat, tok2idx)\n",
        "evaluation2"
      ],
      "execution_count": 19,
      "outputs": [
        {
          "output_type": "stream",
          "text": [
            "Evaluated on 248 of 771 examples\n"
          ],
          "name": "stdout"
        },
        {
          "output_type": "execute_result",
          "data": {
            "text/plain": [
              "-0.015468056503250562"
            ]
          },
          "metadata": {
            "tags": []
          },
          "execution_count": 19
        }
      ]
    },
    {
      "metadata": {
        "id": "YJ1MweGCOGRM",
        "colab_type": "text"
      },
      "cell_type": "markdown",
      "source": [
        "Here we evaluate when context_size=3."
      ]
    },
    {
      "metadata": {
        "id": "66yiJuiaN93p",
        "colab_type": "code",
        "outputId": "a90a1c3d-bffc-420f-e66b-9d50435b5d9f",
        "colab": {
          "base_uri": "https://localhost:8080/",
          "height": 122
        }
      },
      "cell_type": "code",
      "source": [
        "mat, tok2idx, idx2tok = build_cooccurrence_matrix(data, max_vocab_size=10000,context_size=3)"
      ],
      "execution_count": 20,
      "outputs": [
        {
          "output_type": "stream",
          "text": [
            "Counting words...\n",
            "\tFinished counting words in 0.53564\n",
            "Pruning vocabulary...\n",
            "\tFinished pruning vocabulary in 0.00000\n",
            "Building co-occurrence matrix...\n",
            "\tFinished building co-occurrence matrix in 51.25811\n"
          ],
          "name": "stdout"
        }
      ]
    },
    {
      "metadata": {
        "id": "agyvhblYPxN3",
        "colab_type": "code",
        "colab": {}
      },
      "cell_type": "code",
      "source": [
        "def evaluate_word_similarity(word_pairs, targets, mat, tok2idx):\n",
        "    \"\"\" \"\"\"\n",
        "    preds = []\n",
        "    trgs = []\n",
        "    n_exs = 0\n",
        "    for (word1, word2), trg in zip(word_pairs, targets):\n",
        "        if word1 in tok2idx and word2 in tok2idx:\n",
        "            pred_sim = 1 - cosine(mat[tok2idx[word1]], mat[tok2idx[word2]])\n",
        "            preds.append(pred_sim)\n",
        "            trgs.append(trg)\n",
        "            n_exs += 1\n",
        "    \n",
        "    rho, pvalue = spearmanr(trgs, preds)\n",
        "    print(\"Evaluated on %d of %d examples\" % (n_exs, len(word_pairs)))\n",
        "    return rho\n",
        "def vector_length(u):\n",
        "    \"\"\"Length (L2) of the 1d np.array `u`. Returns a new np.array with the \n",
        "    same dimensions as `u`.\"\"\"\n",
        "    return np.sqrt(np.dot(u, u))\n",
        "  \n",
        "def cosine(u, v):        \n",
        "    \"\"\"Cosine distance between 1d np.arrays `u` and `v`, which must have \n",
        "    the same dimensionality. Returns a float.\"\"\"\n",
        "    return 1.0 - (np.dot(u, v) / (vector_length(u) * vector_length(v)))\n",
        "  \n",
        "def prob_norm(u):\n",
        "    \"\"\"Normalize 1d np.array `u` into a probability distribution. Assumes \n",
        "    that all the members of `u` are positive. Returns a 1d np.array of \n",
        "    the same dimensionality as `u`.\"\"\"\n",
        "    return u / np.sum(u)\n",
        "\n",
        "def rowwise_norm_mat(mat):\n",
        "    return np.array([prob_norm(u) for u in mat])\n",
        "norm_mat = rowwise_norm_mat(mat)"
      ],
      "execution_count": 0,
      "outputs": []
    },
    {
      "metadata": {
        "id": "RZGuPTJDN9_H",
        "colab_type": "code",
        "outputId": "e127b7b7-0d29-43df-f7c7-982910893c77",
        "colab": {
          "base_uri": "https://localhost:8080/",
          "height": 52
        }
      },
      "cell_type": "code",
      "source": [
        "evaluation3=evaluate_word_similarity(test_data, test_trgs, norm_mat, tok2idx)\n",
        "evaluation3"
      ],
      "execution_count": 22,
      "outputs": [
        {
          "output_type": "stream",
          "text": [
            "Evaluated on 248 of 771 examples\n"
          ],
          "name": "stdout"
        },
        {
          "output_type": "execute_result",
          "data": {
            "text/plain": [
              "-0.015468056503250562"
            ]
          },
          "metadata": {
            "tags": []
          },
          "execution_count": 22
        }
      ]
    },
    {
      "metadata": {
        "id": "xK9viygFOKFF",
        "colab_type": "text"
      },
      "cell_type": "markdown",
      "source": [
        "Here we evaluate when context_size=4."
      ]
    },
    {
      "metadata": {
        "id": "pQAncoEKN99S",
        "colab_type": "code",
        "outputId": "3271d111-657a-482b-8fed-94006901bbb0",
        "colab": {
          "base_uri": "https://localhost:8080/",
          "height": 122
        }
      },
      "cell_type": "code",
      "source": [
        "mat, tok2idx, idx2tok = build_cooccurrence_matrix(data, max_vocab_size=10000,context_size=4)"
      ],
      "execution_count": 23,
      "outputs": [
        {
          "output_type": "stream",
          "text": [
            "Counting words...\n",
            "\tFinished counting words in 0.42914\n",
            "Pruning vocabulary...\n",
            "\tFinished pruning vocabulary in 0.00000\n",
            "Building co-occurrence matrix...\n",
            "\tFinished building co-occurrence matrix in 51.46432\n"
          ],
          "name": "stdout"
        }
      ]
    },
    {
      "metadata": {
        "id": "vuLx3gpdP0ye",
        "colab_type": "code",
        "colab": {}
      },
      "cell_type": "code",
      "source": [
        "def evaluate_word_similarity(word_pairs, targets, mat, tok2idx):\n",
        "    \"\"\" \"\"\"\n",
        "    preds = []\n",
        "    trgs = []\n",
        "    n_exs = 0\n",
        "    for (word1, word2), trg in zip(word_pairs, targets):\n",
        "        if word1 in tok2idx and word2 in tok2idx:\n",
        "            pred_sim = 1 - cosine(mat[tok2idx[word1]], mat[tok2idx[word2]])\n",
        "            preds.append(pred_sim)\n",
        "            trgs.append(trg)\n",
        "            n_exs += 1\n",
        "    \n",
        "    rho, pvalue = spearmanr(trgs, preds)\n",
        "    print(\"Evaluated on %d of %d examples\" % (n_exs, len(word_pairs)))\n",
        "    return rho\n",
        "def vector_length(u):\n",
        "    \"\"\"Length (L2) of the 1d np.array `u`. Returns a new np.array with the \n",
        "    same dimensions as `u`.\"\"\"\n",
        "    return np.sqrt(np.dot(u, u))\n",
        "  \n",
        "def cosine(u, v):        \n",
        "    \"\"\"Cosine distance between 1d np.arrays `u` and `v`, which must have \n",
        "    the same dimensionality. Returns a float.\"\"\"\n",
        "    return 1.0 - (np.dot(u, v) / (vector_length(u) * vector_length(v)))\n",
        "  \n",
        "def prob_norm(u):\n",
        "    \"\"\"Normalize 1d np.array `u` into a probability distribution. Assumes \n",
        "    that all the members of `u` are positive. Returns a 1d np.array of \n",
        "    the same dimensionality as `u`.\"\"\"\n",
        "    return u / np.sum(u)\n",
        "\n",
        "def rowwise_norm_mat(mat):\n",
        "    return np.array([prob_norm(u) for u in mat])\n",
        "norm_mat = rowwise_norm_mat(mat)"
      ],
      "execution_count": 0,
      "outputs": []
    },
    {
      "metadata": {
        "id": "XDHUarhCN917",
        "colab_type": "code",
        "outputId": "2c22fecd-da7a-439d-997d-1e1554a8f649",
        "colab": {
          "base_uri": "https://localhost:8080/",
          "height": 52
        }
      },
      "cell_type": "code",
      "source": [
        "evaluation4=evaluate_word_similarity(test_data, test_trgs, norm_mat, tok2idx)\n",
        "evaluation4"
      ],
      "execution_count": 25,
      "outputs": [
        {
          "output_type": "stream",
          "text": [
            "Evaluated on 248 of 771 examples\n"
          ],
          "name": "stdout"
        },
        {
          "output_type": "execute_result",
          "data": {
            "text/plain": [
              "-0.015468056503250562"
            ]
          },
          "metadata": {
            "tags": []
          },
          "execution_count": 25
        }
      ]
    },
    {
      "metadata": {
        "id": "C1K1A7jgRMc1",
        "colab_type": "code",
        "outputId": "bf3f7075-9c65-4cfe-98b8-f77c9be73485",
        "colab": {
          "base_uri": "https://localhost:8080/",
          "height": 297
        }
      },
      "cell_type": "code",
      "source": [
        "x=[1,2,3,4]\n",
        "y=[evaluation1,evaluation2,evaluation3,evaluation4]\n",
        "plt.scatter(x,y)\n",
        "plt.xlim(0, 5)\n",
        "plt.ylim(-0.01546, -0.01548)\n",
        "plt.title(\"scatter plot for evaluations when context_size=1,2,3,4\")"
      ],
      "execution_count": 26,
      "outputs": [
        {
          "output_type": "execute_result",
          "data": {
            "text/plain": [
              "Text(0.5, 1.0, 'scatter plot for evaluations when context_size=1,2,3,4')"
            ]
          },
          "metadata": {
            "tags": []
          },
          "execution_count": 26
        },
        {
          "output_type": "display_data",
          "data": {
            "image/png": "[encoded data removed]",
            "text/plain": [
              "<Figure size 432x288 with 1 Axes>"
            ]
          },
          "metadata": {
            "tags": []
          }
        }
      ]
    },
    {
      "metadata": {
        "id": "iukiIboHG6Dj",
        "colab_type": "text"
      },
      "cell_type": "markdown",
      "source": [
        "__c__. Briefly discuss the pros and cons of varying (i) the context size (ii) the vocabulary size (iii) using bigrams instead of unigrams (iv) using subword tokens instead of words. [8 pts]"
      ]
    },
    {
      "metadata": {
        "id": "TCvlYg9nURo2",
        "colab_type": "text"
      },
      "cell_type": "markdown",
      "source": [
        "(i) Generally, narrower window sizes lead to\n",
        "better performance in syntactic tests while wider windows lead to\n",
        "better performance in semantic tests. (this is a note from cs224n)\n",
        "(ii)Performance increases with a larger vocabulary size; it takes more time to compute at the same time (iii)bigrams help machines learn meaning of words as two words combined might produce different meaning than seperated, however it only works well for word prediction if the test corpus looks like the training corpus (iv) using subword tokens reduces input size but loses some information"
      ]
    },
    {
      "metadata": {
        "id": "jSG95-FGG6Dl",
        "colab_type": "text"
      },
      "cell_type": "markdown",
      "source": [
        "## 2. Pointwise Mutual Information [20 pts]"
      ]
    },
    {
      "metadata": {
        "id": "OCk5XrkaG6Dn",
        "colab_type": "text"
      },
      "cell_type": "markdown",
      "source": [
        "In lecture, we introduced __pointwise mutual information__ (PMI), which addresses the issue of normalization removing information about absolute magnitudes of counts. The PMI for word $\\times$ context pair $(w,c)$ is \n",
        "\n",
        "$$\\log\\left(\\frac{P(w,c)}{P(w) \\cdot P(c)}\\right)$$\n",
        "\n",
        "with $\\log(0) = 0$. This is a measure of how far that cell's value deviates from what we would expect given the row and column sums for that cell."
      ]
    },
    {
      "metadata": {
        "id": "eGecCI7UG6Dn",
        "colab_type": "text"
      },
      "cell_type": "markdown",
      "source": [
        "__a__. Implement `pmi`, a function which takes in a co-occurence matrix and returns the matrix with PMI normalization applied. [15 pts]"
      ]
    },
    {
      "metadata": {
        "id": "n8OO61MXG6Dp",
        "colab_type": "code",
        "colab": {}
      },
      "cell_type": "code",
      "source": [
        "def pmi(mat):\n",
        "    \"\"\"Pointwise mutual information\n",
        "    \n",
        "    args:\n",
        "        - mat: 2d np.array to apply PMI\n",
        "        \n",
        "    returns:\n",
        "        - pmi_mat: matrix of same shape with PMI applied\n",
        "       \n",
        "    \"\"\"\n",
        "    \n",
        "    sumofmat=np.sum(mat)\n",
        "    mat=mat/sumofmat\n",
        "    pmi = np.zeros((len(mat),len(mat[0])))\n",
        "    Pw= np.sum(mat,axis=1).tolist()\n",
        "    Pc= np.sum(mat,axis=0).tolist()\n",
        "    for i in range(0,len(mat)):\n",
        "      for j in range(0,len(mat[0])):\n",
        "        if mat[i][j]==0 or Pw[i]==0 or Pc[j]==0:\n",
        "          pmi[i][j]=0\n",
        "        else:\n",
        "          pmi[i][j]=np.log2(mat[i][j])-np.log2(Pw[i]*Pc[j])\n",
        "    return pmi"
      ],
      "execution_count": 0,
      "outputs": []
    },
    {
      "metadata": {
        "id": "YuhjQEHMG6Dt",
        "colab_type": "text"
      },
      "cell_type": "markdown",
      "source": [
        "Apply PMI to the co-occurence matrix computed above with `context_size=1`. What is the PMI between the words \"the\" and \"end\"?"
      ]
    },
    {
      "metadata": {
        "id": "XuVjYXTT1fL3",
        "colab_type": "code",
        "outputId": "23794b4c-5242-4ae1-d851-862b98df0272",
        "colab": {
          "base_uri": "https://localhost:8080/",
          "height": 139
        }
      },
      "cell_type": "code",
      "source": [
        "mat_1"
      ],
      "execution_count": 28,
      "outputs": [
        {
          "output_type": "execute_result",
          "data": {
            "text/plain": [
              "array([[11162,     0,     0, ...,     0,     0,     1],\n",
              "       [    0,  9949,   466, ...,     0,     0,     0],\n",
              "       [    0,   466,  8395, ...,     0,     0,     0],\n",
              "       ...,\n",
              "       [    0,     0,     0, ...,     2,     0,     0],\n",
              "       [    0,     0,     0, ...,     0,     2,     0],\n",
              "       [    1,     0,     0, ...,     0,     0,     2]])"
            ]
          },
          "metadata": {
            "tags": []
          },
          "execution_count": 28
        }
      ]
    },
    {
      "metadata": {
        "id": "vLc3dlagxhK_",
        "colab_type": "code",
        "outputId": "db093c85-e9fa-4187-dae3-743f10a0dc86",
        "colab": {
          "base_uri": "https://localhost:8080/",
          "height": 244
        }
      },
      "cell_type": "code",
      "source": [
        "pmi_mat1=pmi(mat_1)\n",
        "pmi_mat1"
      ],
      "execution_count": 29,
      "outputs": [
        {
          "output_type": "execute_result",
          "data": {
            "text/plain": [
              "array([[ 3.89301893,  0.        ,  0.        , ...,  0.        ,\n",
              "         0.        ,  2.23549729],\n",
              "       [ 0.        ,  2.91797937, -1.27537564, ...,  0.        ,\n",
              "         0.        ,  0.        ],\n",
              "       [ 0.        , -1.27537564,  3.11854748, ...,  0.        ,\n",
              "         0.        ,  0.        ],\n",
              "       ...,\n",
              "       [ 0.        ,  0.        ,  0.        , ..., 15.02428358,\n",
              "         0.        ,  0.        ],\n",
              "       [ 0.        ,  0.        ,  0.        , ...,  0.        ,\n",
              "        15.02428358,  0.        ],\n",
              "       [ 2.23549729,  0.        ,  0.        , ...,  0.        ,\n",
              "         0.        , 15.02428358]])"
            ]
          },
          "metadata": {
            "tags": []
          },
          "execution_count": 29
        }
      ]
    },
    {
      "metadata": {
        "id": "MS5Z_QtcA44I",
        "colab_type": "text"
      },
      "cell_type": "markdown",
      "source": [
        "calculate the PMI between the words \"the\" and \"end\""
      ]
    },
    {
      "metadata": {
        "id": "VIjkyhOnA_WZ",
        "colab_type": "code",
        "outputId": "df949515-d802-4392-ad67-e2d2ef107e22",
        "colab": {
          "base_uri": "https://localhost:8080/",
          "height": 34
        }
      },
      "cell_type": "code",
      "source": [
        "#find the index of 'end'\n",
        "list(tok2idx.keys()).index(\"end\")"
      ],
      "execution_count": 30,
      "outputs": [
        {
          "output_type": "execute_result",
          "data": {
            "text/plain": [
              "201"
            ]
          },
          "metadata": {
            "tags": []
          },
          "execution_count": 30
        }
      ]
    },
    {
      "metadata": {
        "id": "V1q8am29BBMl",
        "colab_type": "code",
        "outputId": "2af4cb3e-39ca-4a81-9401-27e202d0bc1f",
        "colab": {
          "base_uri": "https://localhost:8080/",
          "height": 34
        }
      },
      "cell_type": "code",
      "source": [
        "#find the index of 'the'\n",
        "list(tok2idx.keys()).index(\"the\")"
      ],
      "execution_count": 31,
      "outputs": [
        {
          "output_type": "execute_result",
          "data": {
            "text/plain": [
              "2"
            ]
          },
          "metadata": {
            "tags": []
          },
          "execution_count": 31
        }
      ]
    },
    {
      "metadata": {
        "id": "ehPV53Ve-krO",
        "colab_type": "code",
        "outputId": "2516aaf5-4396-4393-a7f5-264aef443721",
        "colab": {
          "base_uri": "https://localhost:8080/",
          "height": 34
        }
      },
      "cell_type": "code",
      "source": [
        "pmi_mat1[2][201]"
      ],
      "execution_count": 32,
      "outputs": [
        {
          "output_type": "execute_result",
          "data": {
            "text/plain": [
              "2.491290363137491"
            ]
          },
          "metadata": {
            "tags": []
          },
          "execution_count": 32
        }
      ]
    },
    {
      "metadata": {
        "id": "vI_cnQCvG6Dt",
        "colab_type": "text"
      },
      "cell_type": "markdown",
      "source": [
        "__b__. We also consider an extension of PMI, positive PMI (PPMI), that maps all negative PMI values to 0.0 ([Levy and Goldberg 2014](http://papers.nips.cc/paper/5477-neural-word-embedding-as-implicit-matrix-factorization)). \n",
        "Write `ppmi`, which is the same as `pmi` except it applies PPMI instead of PMI (feel free to implement it as an option of `pmi`). What is the PMI of the words \"the\" and \"start\"? The PPMI? [5 pts]"
      ]
    },
    {
      "metadata": {
        "id": "FLfL44QKHzS7",
        "colab_type": "code",
        "colab": {}
      },
      "cell_type": "code",
      "source": [
        "def ppmi(mat):\n",
        "    \"\"\"Pointwise mutual information\n",
        "    \n",
        "    args:\n",
        "        - mat: 2d np.array to apply PMI\n",
        "        \n",
        "    returns:\n",
        "        - pmi_mat: matrix of same shape with PMI applied\n",
        "       \n",
        "    \"\"\"\n",
        "    \n",
        "    sumofmat=np.sum(mat)\n",
        "    mat=mat/sumofmat\n",
        "    ppmi = np.zeros((len(mat),len(mat[0])))\n",
        "    def sumcol(mat):\n",
        "      return [sum(col) for col in zip(*mat)]\n",
        "    def sumrow(mat):\n",
        "      return [sum(row) for row in zip(*mat)]\n",
        "    Pw= sumrow(mat)\n",
        "    Pc= sumcol(mat)\n",
        "    for i in range(0,len(mat)):\n",
        "      for j in range(0,len(mat[0])):\n",
        "        if mat[i][j]==0 or Pw[i]==0 or Pc[j]==0:\n",
        "          ppmi[i][j]=0\n",
        "        else:\n",
        "          if np.log2(mat[i][j])-np.log2(Pw[i]*Pc[j])>0:\n",
        "            ppmi[i][j]=np.log2(mat[i][j])-np.log2(Pw[i]*Pc[j])\n",
        "          else: ppmi[i][j]=0\n",
        "    return ppmi"
      ],
      "execution_count": 0,
      "outputs": []
    },
    {
      "metadata": {
        "id": "RB5I1HTjJPIx",
        "colab_type": "code",
        "outputId": "8b137206-df90-4d26-ac44-36fb598f9097",
        "colab": {
          "base_uri": "https://localhost:8080/",
          "height": 244
        }
      },
      "cell_type": "code",
      "source": [
        "ppmi_mat1=ppmi(mat_1)\n",
        "ppmi_mat1"
      ],
      "execution_count": 34,
      "outputs": [
        {
          "output_type": "execute_result",
          "data": {
            "text/plain": [
              "array([[ 3.89301893,  0.        ,  0.        , ...,  0.        ,\n",
              "         0.        ,  2.23549729],\n",
              "       [ 0.        ,  2.91797937,  0.        , ...,  0.        ,\n",
              "         0.        ,  0.        ],\n",
              "       [ 0.        ,  0.        ,  3.11854748, ...,  0.        ,\n",
              "         0.        ,  0.        ],\n",
              "       ...,\n",
              "       [ 0.        ,  0.        ,  0.        , ..., 15.02428358,\n",
              "         0.        ,  0.        ],\n",
              "       [ 0.        ,  0.        ,  0.        , ...,  0.        ,\n",
              "        15.02428358,  0.        ],\n",
              "       [ 2.23549729,  0.        ,  0.        , ...,  0.        ,\n",
              "         0.        , 15.02428358]])"
            ]
          },
          "metadata": {
            "tags": []
          },
          "execution_count": 34
        }
      ]
    },
    {
      "metadata": {
        "id": "Q-BMUSLvh3EB",
        "colab_type": "code",
        "outputId": "64a91c8d-0d64-4775-81d4-bf9c30391dbc",
        "colab": {
          "base_uri": "https://localhost:8080/",
          "height": 34
        }
      },
      "cell_type": "code",
      "source": [
        "#find the index of 'start'\n",
        "list(tok2idx.keys()).index(\"start\")"
      ],
      "execution_count": 35,
      "outputs": [
        {
          "output_type": "execute_result",
          "data": {
            "text/plain": [
              "670"
            ]
          },
          "metadata": {
            "tags": []
          },
          "execution_count": 35
        }
      ]
    },
    {
      "metadata": {
        "id": "Lha4QstrCpsD",
        "colab_type": "code",
        "outputId": "bbddfdab-29ed-429e-b181-1f70a12c70c6",
        "colab": {
          "base_uri": "https://localhost:8080/",
          "height": 34
        }
      },
      "cell_type": "code",
      "source": [
        "ppmi_mat1[2][670]"
      ],
      "execution_count": 36,
      "outputs": [
        {
          "output_type": "execute_result",
          "data": {
            "text/plain": [
              "0.4214900105719579"
            ]
          },
          "metadata": {
            "tags": []
          },
          "execution_count": 36
        }
      ]
    },
    {
      "metadata": {
        "id": "_iekKAYSG6Du",
        "colab_type": "text"
      },
      "cell_type": "markdown",
      "source": [
        "## 3. Analyzing PMI [25 pts]"
      ]
    },
    {
      "metadata": {
        "id": "6Xc2h9XCG6Dw",
        "colab_type": "text"
      },
      "cell_type": "markdown",
      "source": [
        "__a__. Consider the matrix `np.array([[1.0, 0.0, 0.0], [1000.0, 1000.0, 4000.0], [1000.0, 2000.0, 999.0]])`. Reweight this matrix using `ppmi`. (i) What is the value obtained for cell `[0,0]`, and (ii) give a brief description for what is likely problematic about this value. [10 pts]"
      ]
    },
    {
      "metadata": {
        "id": "qnmFwo52DM9W",
        "colab_type": "code",
        "colab": {}
      },
      "cell_type": "code",
      "source": [
        "array1=np.array([[1.0, 0.0, 0.0], [1000.0, 1000.0, 4000.0], [1000.0, 2000.0, 999.0]])"
      ],
      "execution_count": 0,
      "outputs": []
    },
    {
      "metadata": {
        "id": "RGk_jDnSDj0w",
        "colab_type": "code",
        "outputId": "4f5ea9f9-5161-4e44-818c-aa5710e6ba2a",
        "colab": {
          "base_uri": "https://localhost:8080/",
          "height": 69
        }
      },
      "cell_type": "code",
      "source": [
        "ppmi(array1)"
      ],
      "execution_count": 38,
      "outputs": [
        {
          "output_type": "execute_result",
          "data": {
            "text/plain": [
              "array([[0.        , 0.        , 0.        ],\n",
              "       [0.73624443, 0.15200309, 1.41532607],\n",
              "       [0.        , 0.41532607, 0.        ]])"
            ]
          },
          "metadata": {
            "tags": []
          },
          "execution_count": 38
        }
      ]
    },
    {
      "metadata": {
        "id": "mdlpt4fGEZB1",
        "colab_type": "code",
        "outputId": "6c63fb5d-618b-4826-d154-5cfced340391",
        "colab": {
          "base_uri": "https://localhost:8080/",
          "height": 34
        }
      },
      "cell_type": "code",
      "source": [
        "ppmi_array1=ppmi(array1)\n",
        "ppmi_array1[0][0]"
      ],
      "execution_count": 39,
      "outputs": [
        {
          "output_type": "execute_result",
          "data": {
            "text/plain": [
              "0.0"
            ]
          },
          "metadata": {
            "tags": []
          },
          "execution_count": 39
        }
      ]
    },
    {
      "metadata": {
        "id": "SrMkP5zBLlzD",
        "colab_type": "text"
      },
      "cell_type": "markdown",
      "source": [
        "I'm not sure I noticed what's wrong but I assume some smoothing could be applied."
      ]
    },
    {
      "metadata": {
        "id": "PVdwr1BZG6Dx",
        "colab_type": "text"
      },
      "cell_type": "markdown",
      "source": [
        "__b__. Give a suggestion for dealing with the problematic value and explain why it deals with this. Demonstrate your suggestion empirically [10 pts]"
      ]
    },
    {
      "metadata": {
        "id": "gjNwNeNDLkdI",
        "colab_type": "code",
        "colab": {}
      },
      "cell_type": "code",
      "source": [
        "array2=array1+100"
      ],
      "execution_count": 0,
      "outputs": []
    },
    {
      "metadata": {
        "id": "lJSD48nSZ_vu",
        "colab_type": "code",
        "colab": {
          "base_uri": "https://localhost:8080/",
          "height": 69
        },
        "outputId": "51573767-efbd-4cfe-98ed-3cc7757077ee"
      },
      "cell_type": "code",
      "source": [
        "ppmi(array2)"
      ],
      "execution_count": 50,
      "outputs": [
        {
          "output_type": "execute_result",
          "data": {
            "text/plain": [
              "array([[0.                 , 0.                 , 0.                 ],\n",
              "       [0.6590327456064049 , 0.13882770469731653, 1.3536939877679455 ],\n",
              "       [0.                 , 0.38845940592862194, 0.                 ]])"
            ]
          },
          "metadata": {
            "tags": []
          },
          "execution_count": 50
        }
      ]
    },
    {
      "metadata": {
        "id": "-N_fTeFVG6Dy",
        "colab_type": "text"
      },
      "cell_type": "markdown",
      "source": [
        "__c__. Consider starting with a word-word co-occurence matrix and applied PMI to this matrix. (i) Which of the following describe the resulting vectors: sparse, dense, high-dimensional, low-dimensional (ii) If you wanted the opposite style of representation, what could you do? [5 pts]\n"
      ]
    },
    {
      "metadata": {
        "id": "BfMgrVJuMS5w",
        "colab_type": "text"
      },
      "cell_type": "markdown",
      "source": [
        "(i)sparse, high-dimensional\n",
        "(ii)use truncated svd"
      ]
    },
    {
      "metadata": {
        "id": "MOMXfKrfG6D0",
        "colab_type": "text"
      },
      "cell_type": "markdown",
      "source": [
        "## 4. Word Analogy Evaluation [25 pts]"
      ]
    },
    {
      "metadata": {
        "id": "KEMOMlABG6D1",
        "colab_type": "text"
      },
      "cell_type": "markdown",
      "source": [
        "Word analogies provide another kind of evaluation for distributed representations. Here, we are given three vectors A, B, and C, in the relationship\n",
        "\n",
        "_A is to B as C is to __ _\n",
        "\n",
        "and asked to identify the fourth that completes the analogy. These analogies are by and large substantially easier than the classic brain-teaser analogies that used to appear on tests like the SAT, but it's still an interesting, demanding\n",
        "task. \n",
        "\n",
        "The core idea is that we make predictions by creating the vector\n",
        "\n",
        "$$(A - B) + C$$ \n",
        "\n",
        "and then ranking all vectors based on their distance from this new vector, choosing the closest as our prediction."
      ]
    },
    {
      "metadata": {
        "id": "mM3xXs7fG6D3",
        "colab_type": "text"
      },
      "cell_type": "markdown",
      "source": [
        "__a__. Implement the function `analogy_completion`. [9 pts]"
      ]
    },
    {
      "metadata": {
        "id": "N7VJ8-OMKlme",
        "colab_type": "text"
      },
      "cell_type": "markdown",
      "source": [
        "I can't upload the glove file to google colab because it is too large. However the first part of hw1 can not run on my local jupyter notebook, so I wrote this part on my local jupyter notebook, so here is no output saved."
      ]
    },
    {
      "metadata": {
        "id": "2GjWwI2ZG6D6",
        "colab_type": "code",
        "colab": {}
      },
      "cell_type": "code",
      "source": [
        "def analogy_completion(a, b, c, vec):\n",
        "    \"\"\"Compute ? in \n",
        "    a is to b as c is to ? \n",
        "    as the closest to (b-a) + c\n",
        "    \"\"\"\n",
        "\n",
        "    vector_a=vec[a]\n",
        "    vector_b=vec[b]\n",
        "    vector_c=vec[c]\n",
        "\n",
        "    vector_d=vector_b-vector_a+vector_c\n",
        "    distance={}\n",
        "    for word in [x for x in vec.keys() if x not in [a,b,c]]:\n",
        "        distance[word]=cosine(vector_d,vec[word])\n",
        "\n",
        "    return min(distance.items(),key=operator.itemgetter(1))[0]\n",
        "  "
      ],
      "execution_count": 0,
      "outputs": []
    },
    {
      "metadata": {
        "id": "Iho-wVT5G6D-",
        "colab_type": "text"
      },
      "cell_type": "markdown",
      "source": [
        "__b__. Our simple word embeddings likely won't perform well on this task. Let's instead look at some high quality pretrained word embeddings. Write code to load 300-dimensional [GloVe word embeddings](http://nlp.stanford.edu/data/glove.840B.300d.zip) trained on 840B tokens. Each line of the file is formatted as a word followed by 300 floats that make up its corresponding word embedding (all space delimited). The entries of GloVe word embeddings are not counts, but instead are learned via machine learning. Use your `analogy_completion` code to complete the following analogies using the GloVe word embeddings. [6 pts]"
      ]
    },
    {
      "metadata": {
        "id": "KrUy3k27Phtj",
        "colab_type": "code",
        "colab": {}
      },
      "cell_type": "code",
      "source": [
        "def load_glove(glove_file, n_vecs=20000):\n",
        "    \"\"\" \"\"\"\n",
        "    tok2vec = {}\n",
        "    with open(glove_file, 'r') as glove_fh:\n",
        "        for i, row in enumerate(glove_fh):\n",
        "            word, vec = row.split(' ', 1)\n",
        "            tok2vec[word] = np.array([float(n) for n in vec.split(' ')])\n",
        "            if i >= n_vecs:\n",
        "                break\n",
        "    return tok2vec\n"
      ],
      "execution_count": 0,
      "outputs": []
    },
    {
      "metadata": {
        "id": "Cyuyxxn7Pieh",
        "colab_type": "code",
        "colab": {}
      },
      "cell_type": "code",
      "source": [
        "glove_file = \"glove.840B.300d.txt\"\n",
        "glove_vecs = load_glove(glove_file, n_vecs=200000)"
      ],
      "execution_count": 0,
      "outputs": []
    },
    {
      "metadata": {
        "id": "fAl31SsePic6",
        "colab_type": "code",
        "colab": {}
      },
      "cell_type": "code",
      "source": [
        "analogy_completion('study','hard','play',glove_vecs)"
      ],
      "execution_count": 0,
      "outputs": []
    },
    {
      "metadata": {
        "id": "qPs9O57SPhqt",
        "colab_type": "code",
        "colab": {}
      },
      "cell_type": "code",
      "source": [
        "analogy_completion('beijing','china','paris',glove_vecs)"
      ],
      "execution_count": 0,
      "outputs": []
    },
    {
      "metadata": {
        "id": "aWvWpDA25uU0",
        "colab_type": "code",
        "colab": {}
      },
      "cell_type": "code",
      "source": [
        "analogy_completion('gold','first','silver',glove_vecs)"
      ],
      "execution_count": 0,
      "outputs": []
    },
    {
      "metadata": {
        "id": "Pr0534En5um4",
        "colab_type": "code",
        "colab": {}
      },
      "cell_type": "code",
      "source": [
        "analogy_completion('italian','mozzarella','american',glove_vecs)"
      ],
      "execution_count": 0,
      "outputs": []
    },
    {
      "metadata": {
        "id": "x83KumjG5uST",
        "colab_type": "code",
        "colab": {}
      },
      "cell_type": "code",
      "source": [
        "analogy_completion('research','fun','engineering',glove_vecs)"
      ],
      "execution_count": 0,
      "outputs": []
    },
    {
      "metadata": {
        "id": "0Ei2M2UvG6D_",
        "colab_type": "text"
      },
      "cell_type": "markdown",
      "source": [
        "- \"Beijing\" is to \"China\" as \"Paris\" is to ?\n",
        "- \"gold\" is to \"first\" as \"silver\" is to ?\n",
        "- \"Italian\" is to \"mozzarella\" as \"American\" is to ?\n",
        "- \"research\" is to \"fun\" as \"engineering\" is to ?"
      ]
    },
    {
      "metadata": {
        "id": "JGG6AlEbG6EA",
        "colab_type": "text"
      },
      "cell_type": "markdown",
      "source": [
        "c. Let's get a more quantitative, aggregate sense of the quality of GloVe embeddings. Load the analogies from `gram6-nationality-adjective.txt` and evaluate GloVe embeddings. Report the mean reciprocal rank of the correct answer (the last word on each line) for each analogy. [10 pts]"
      ]
    },
    {
      "metadata": {
        "id": "vK4BX-ytG6EB",
        "colab_type": "text"
      },
      "cell_type": "markdown",
      "source": [
        "__Solution__"
      ]
    },
    {
      "metadata": {
        "id": "YGOC3cNPI7_w",
        "colab_type": "code",
        "colab": {}
      },
      "cell_type": "code",
      "source": [
        "def load_word_dataset(data_file):\n",
        "    with open(data_file, 'r') as data_fh:\n",
        "        raw_data = data_fh.readlines()\n",
        "    word1 = []\n",
        "    word2=[]\n",
        "    word3=[]\n",
        "    trgs = []\n",
        " \n",
        " \n",
        "    for i in range(0,len(raw_data),1): \n",
        " \n",
        "        list = []  \n",
        "        for word in raw_data:\n",
        "            \n",
        "            word=raw_data[i].split()\n",
        "            word1.append((word[0]))\n",
        "            word2.append((word[1]))\n",
        "            word3.append((word[2]))\n",
        "            trgs.append((word[3]))\n",
        "\n",
        "    return word1,word2,word3, trgs"
      ],
      "execution_count": 0,
      "outputs": []
    },
    {
      "metadata": {
        "id": "1ZzEsvZpG6EC",
        "colab_type": "code",
        "colab": {}
      },
      "cell_type": "code",
      "source": [
        "def analogy_evaluation(glove_vecs, test_file, verbose=False):\n",
        "    \"\"\"Basic analogies evaluation for a file `src_filename `\n",
        "    in `question-data/`.\n",
        "    \n",
        "    Parameters\n",
        "    ----------    \n",
        "    mat : 2d np.array\n",
        "        The VSM being evaluated.\n",
        "    rownames : list of str\n",
        "        The names of the rows in `mat`.\n",
        "        \n",
        "    src_filename : str\n",
        "        Basename of the file to be evaluated. It's assumed to be in\n",
        "        `vsmdata_home`/question-data.\n",
        "        \n",
        "    distfunc : function mapping vector pairs to floats (default: `cosine`)\n",
        "        The measure of distance between vectors. Can also be `euclidean`, \n",
        "        `matching`, `jaccard`, as well as any other distance measure \n",
        "        between 1d vectors.\n",
        "    \n",
        "    Returns\n",
        "    -------\n",
        "    (float, float)\n",
        "        The first is the mean reciprocal rank of the predictions and \n",
        "        the second is the accuracy of the predictions.\n",
        "    \n",
        "    \"\"\"\n",
        "    def analogy2(a,b,c,d,vec):\n",
        "        \n",
        "\n",
        "        vector_a=vec[a]\n",
        "        vector_b=vec[b]\n",
        "        vector_c=vec[c]\n",
        "        vector_d=vector_b-vector_a+vector_c\n",
        "        distance={}\n",
        "        \n",
        "        for word in [x for x in vec.keys() if x not in [a,b,c]]:\n",
        "            distance[word]=cosine(vector_d,vec[word])\n",
        "            sorted_distance=sorted(distance.items(), key=lambda t: t[1])\n",
        "        for index,value in enumerate(sorted_distance):\n",
        "            if value[0]==d:\n",
        "                ind=index\n",
        "        return ind[0]\n",
        "\n",
        "    wordlist1, wordlist2,wordlist3, trglist=load_word_dataset(data_file)\n",
        "    n_exs = 0\n",
        "    for word1,word2,word3,trg in zip(wordlist1,wordlist2,wordlist3,trglist):\n",
        "        \n",
        "            rank_ = analogy2(word1,word2,word3,trglist,glove_vecs)+1\n",
        "            rank.append(rank_)\n",
        "            n_exs += 1\n",
        "    \n",
        "    rank=np.array(rank)\n",
        "    accuracy=sum(rank==1)/(len(rank))\n",
        "    mean=np.mean(1/rank)\n",
        "    \n",
        "\n",
        "    print(\"Evaluated on %d of %d examples\" % (n_exs, len(trglist)))\n",
        "    return accuracy,mean"
      ],
      "execution_count": 0,
      "outputs": []
    },
    {
      "metadata": {
        "id": "sODwx_smG6EG",
        "colab_type": "code",
        "outputId": "9a1f299e-0102-4c61-d06f-3af2f407c443",
        "colab": {}
      },
      "cell_type": "code",
      "source": [
        "analogy_evaluation(glove_vecs, \"gram6-nationality-adjective.txt\")"
      ],
      "execution_count": 0,
      "outputs": [
        {
          "output_type": "execute_result",
          "data": {
            "text/plain": [
              "(0.9391509433962264, defaultdict(int, {True: 97, False: 9}))"
            ]
          },
          "metadata": {
            "tags": []
          },
          "execution_count": 16
        }
      ]
    }
  ]
}