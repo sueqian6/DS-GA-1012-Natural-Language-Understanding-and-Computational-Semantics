{
 "cells": [
  {
   "cell_type": "code",
   "execution_count": 7,
   "metadata": {},
   "outputs": [],
   "source": [
    "import random\n",
    " \n",
    "def split_file(file,out1,out2,percentage=0.80,isShuffle=True,seed=123):\n",
    "\n",
    "    random.seed(seed)\n",
    "    with open(file, 'r',encoding=\"utf-8\") as fin, \\\n",
    "        open(out1, 'w') as foutBig, \\\n",
    "        open(out2, 'w') as foutSmall:\n",
    " \n",
    "        nLines = sum(1 for line in fin)\n",
    "        fin.seek(0)\n",
    " \n",
    "        nTrain = int(nLines*percentage) \n",
    "        nValid = nLines - nTrain\n",
    " \n",
    "        i = 0\n",
    "        for line in fin:\n",
    "            r = random.random() if isShuffle else 0 # so that always evaluated to true when not isShuffle\n",
    "            if (i < nTrain and r < percentage) or (nLines - i > nValid):\n",
    "                foutBig.write(line)\n",
    "                i += 1\n",
    "            else:\n",
    "                foutSmall.write(line)"
   ]
  },
  {
   "cell_type": "code",
   "execution_count": 8,
   "metadata": {},
   "outputs": [],
   "source": [
    "split_file(\"label_18.csv\",\"train.csv\",\"test_and_dev.csv\",percentage=0.80,isShuffle=True,seed=123)"
   ]
  },
  {
   "cell_type": "code",
   "execution_count": 10,
   "metadata": {},
   "outputs": [],
   "source": [
    "split_file(\"test_and_dev.csv\",\"test.csv\",\"dev.csv\",percentage=0.50,isShuffle=True,seed=123)"
   ]
  },
  {
   "cell_type": "code",
   "execution_count": null,
   "metadata": {},
   "outputs": [],
   "source": []
  }
 ],
 "metadata": {
  "kernelspec": {
   "display_name": "Python 3",
   "language": "python",
   "name": "python3"
  },
  "language_info": {
   "codemirror_mode": {
    "name": "ipython",
    "version": 3
   },
   "file_extension": ".py",
   "mimetype": "text/x-python",
   "name": "python",
   "nbconvert_exporter": "python",
   "pygments_lexer": "ipython3",
   "version": "3.7.1"
  }
 },
 "nbformat": 4,
 "nbformat_minor": 2
}
